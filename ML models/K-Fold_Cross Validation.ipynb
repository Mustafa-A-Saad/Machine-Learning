{
 "cells": [
  {
   "cell_type": "code",
   "execution_count": 1,
   "id": "1a11a0ae",
   "metadata": {},
   "outputs": [],
   "source": [
    "import pandas as pd\n",
    "import numpy as np\n",
    "from sklearn.linear_model import LogisticRegression\n",
    "from sklearn.model_selection import train_test_split\n",
    "from sklearn.svm import SVC\n",
    "from sklearn.ensemble import RandomForestClassifier\n",
    "from sklearn.datasets import load_digits"
   ]
  },
  {
   "cell_type": "code",
   "execution_count": 2,
   "id": "1740850a",
   "metadata": {},
   "outputs": [
    {
     "data": {
      "text/plain": [
       "['DESCR', 'data', 'feature_names', 'frame', 'images', 'target', 'target_names']"
      ]
     },
     "execution_count": 2,
     "metadata": {},
     "output_type": "execute_result"
    }
   ],
   "source": [
    "digits = load_digits()\n",
    "dir(digits)"
   ]
  },
  {
   "cell_type": "code",
   "execution_count": 3,
   "id": "98ac14cd",
   "metadata": {},
   "outputs": [],
   "source": [
    "X = digits['data']\n",
    "y = digits['target']\n",
    "X_train , X_test , y_train , y_test = train_test_split(X,y,test_size=0.3)"
   ]
  },
  {
   "cell_type": "code",
   "execution_count": 4,
   "id": "b0d9b6c1",
   "metadata": {
    "scrolled": true
   },
   "outputs": [
    {
     "data": {
      "text/plain": [
       "0.9629629629629629"
      ]
     },
     "execution_count": 4,
     "metadata": {},
     "output_type": "execute_result"
    }
   ],
   "source": [
    "lr = LogisticRegression(max_iter=5000).fit(X_train,y_train)\n",
    "lr.score(X_test,y_test)"
   ]
  },
  {
   "cell_type": "code",
   "execution_count": 5,
   "id": "7c395c9f",
   "metadata": {},
   "outputs": [
    {
     "data": {
      "text/plain": [
       "0.987037037037037"
      ]
     },
     "execution_count": 5,
     "metadata": {},
     "output_type": "execute_result"
    }
   ],
   "source": [
    "svm = SVC().fit(X_train,y_train)\n",
    "svm.score(X_test,y_test)"
   ]
  },
  {
   "cell_type": "code",
   "execution_count": 6,
   "id": "87995eee",
   "metadata": {},
   "outputs": [
    {
     "data": {
      "text/plain": [
       "0.9777777777777777"
      ]
     },
     "execution_count": 6,
     "metadata": {},
     "output_type": "execute_result"
    }
   ],
   "source": [
    "rf = RandomForestClassifier(n_estimators=40).fit(X_train,y_train)\n",
    "rf.score(X_test,y_test)"
   ]
  },
  {
   "cell_type": "code",
   "execution_count": 7,
   "id": "b2b4b007",
   "metadata": {},
   "outputs": [],
   "source": [
    "#-------K-Fold Cross Validation----------#"
   ]
  },
  {
   "cell_type": "code",
   "execution_count": 8,
   "id": "4c68a353",
   "metadata": {},
   "outputs": [
    {
     "data": {
      "text/plain": [
       "KFold(n_splits=3, random_state=None, shuffle=False)"
      ]
     },
     "execution_count": 8,
     "metadata": {},
     "output_type": "execute_result"
    }
   ],
   "source": [
    "from sklearn.model_selection import KFold\n",
    "kf = KFold(n_splits=3)\n",
    "kf"
   ]
  },
  {
   "cell_type": "code",
   "execution_count": 9,
   "id": "9298e0e4",
   "metadata": {},
   "outputs": [
    {
     "name": "stdout",
     "output_type": "stream",
     "text": [
      "[3 4 5 6 7 8] [0 1 2]\n",
      "[0 1 2 6 7 8] [3 4 5]\n",
      "[0 1 2 3 4 5] [6 7 8]\n"
     ]
    }
   ],
   "source": [
    "for train_index,test_index in kf.split([1,2,3,4,5,6,7,8,9]):\n",
    "    print(train_index,test_index)\n",
    "    # makes 3 splits because n_splits"
   ]
  },
  {
   "cell_type": "code",
   "execution_count": 10,
   "id": "1e228e61",
   "metadata": {},
   "outputs": [],
   "source": [
    "def get_score(model,X_train,X_test,y_train,y_test):\n",
    "    model.fit(X_train,y_train)\n",
    "    return model.score(X_test,y_test)"
   ]
  },
  {
   "cell_type": "code",
   "execution_count": 11,
   "id": "86dcb863",
   "metadata": {
    "scrolled": true
   },
   "outputs": [
    {
     "data": {
      "text/plain": [
       "0.9629629629629629"
      ]
     },
     "execution_count": 11,
     "metadata": {},
     "output_type": "execute_result"
    }
   ],
   "source": [
    "get_score(LogisticRegression(max_iter=5000),X_train,X_test,y_train,y_test)"
   ]
  },
  {
   "cell_type": "code",
   "execution_count": 12,
   "id": "712bf8ba",
   "metadata": {},
   "outputs": [
    {
     "data": {
      "text/plain": [
       "StratifiedKFold(n_splits=3, random_state=None, shuffle=False)"
      ]
     },
     "execution_count": 12,
     "metadata": {},
     "output_type": "execute_result"
    }
   ],
   "source": [
    "from sklearn.model_selection import StratifiedKFold\n",
    "folds = StratifiedKFold(n_splits=3) # 10 is a good practice\n",
    "folds"
   ]
  },
  {
   "cell_type": "code",
   "execution_count": 13,
   "id": "54d146e3",
   "metadata": {},
   "outputs": [],
   "source": [
    "score_log = []\n",
    "score_svc = []\n",
    "score_rf = []\n",
    "for train_index,test_index in folds.split(digits['data'],digits['target']):\n",
    "    X_train , X_test,y_train,y_test = digits['data'][train_index],digits['data'][test_index],digits['target'][train_index],digits['target'][test_index]\n",
    "    score_log.append(get_score(LogisticRegression(max_iter=5000),X_train,X_test,y_train,y_test))\n",
    "    score_svc.append(get_score(SVC(),X_train,X_test,y_train,y_test))\n",
    "    score_rf.append(get_score(RandomForestClassifier(n_estimators=40),X_train,X_test,y_train,y_test))    "
   ]
  },
  {
   "cell_type": "code",
   "execution_count": 14,
   "id": "7b193a84",
   "metadata": {},
   "outputs": [
    {
     "data": {
      "text/plain": [
       "[0.9248747913188647, 0.9398998330550918, 0.9232053422370617]"
      ]
     },
     "execution_count": 14,
     "metadata": {},
     "output_type": "execute_result"
    }
   ],
   "source": [
    "score_log"
   ]
  },
  {
   "cell_type": "code",
   "execution_count": 15,
   "id": "b1946a35",
   "metadata": {},
   "outputs": [
    {
     "data": {
      "text/plain": [
       "[0.9649415692821369, 0.9799666110183639, 0.9649415692821369]"
      ]
     },
     "execution_count": 15,
     "metadata": {},
     "output_type": "execute_result"
    }
   ],
   "source": [
    "score_svc"
   ]
  },
  {
   "cell_type": "code",
   "execution_count": 16,
   "id": "5b04371a",
   "metadata": {},
   "outputs": [
    {
     "data": {
      "text/plain": [
       "[0.9282136894824707, 0.9432387312186978, 0.9282136894824707]"
      ]
     },
     "execution_count": 16,
     "metadata": {},
     "output_type": "execute_result"
    }
   ],
   "source": [
    "score_rf"
   ]
  },
  {
   "cell_type": "code",
   "execution_count": 32,
   "id": "d8e6dace",
   "metadata": {},
   "outputs": [],
   "source": [
    "from sklearn.model_selection import cross_val_score\n",
    "from sklearn.tree import DecisionTreeClassifier"
   ]
  },
  {
   "cell_type": "code",
   "execution_count": 33,
   "id": "9eee7b28",
   "metadata": {},
   "outputs": [
    {
     "data": {
      "text/plain": [
       "array([0.925     , 0.87777778, 0.93871866, 0.93593315, 0.89693593])"
      ]
     },
     "execution_count": 33,
     "metadata": {},
     "output_type": "execute_result"
    }
   ],
   "source": [
    "cross_val_score(LogisticRegression(max_iter=5000),digits['data'],digits['target']) # this methods does the same as above the for loop"
   ]
  },
  {
   "cell_type": "code",
   "execution_count": 34,
   "id": "ebb7081e",
   "metadata": {},
   "outputs": [],
   "source": [
    "# Use iris flower dataset from sklearn library and use cross_val_score against following models to measure the performance of each. In the end figure out the model with best performance,\n",
    "# \n",
    "# Logistic Regression\n",
    "# SVM\n",
    "# Decision Tree\n",
    "# Random Forest"
   ]
  },
  {
   "cell_type": "code",
   "execution_count": 35,
   "id": "60b09574",
   "metadata": {},
   "outputs": [
    {
     "data": {
      "text/plain": [
       "['DESCR',\n",
       " 'data',\n",
       " 'data_module',\n",
       " 'feature_names',\n",
       " 'filename',\n",
       " 'frame',\n",
       " 'target',\n",
       " 'target_names']"
      ]
     },
     "execution_count": 35,
     "metadata": {},
     "output_type": "execute_result"
    }
   ],
   "source": [
    "from sklearn.datasets import load_iris\n",
    "iris = load_iris()\n",
    "dir(iris)"
   ]
  },
  {
   "cell_type": "code",
   "execution_count": 36,
   "id": "60502093",
   "metadata": {},
   "outputs": [
    {
     "data": {
      "text/plain": [
       "array([0.96666667, 1.        , 0.93333333, 0.96666667, 1.        ])"
      ]
     },
     "execution_count": 36,
     "metadata": {},
     "output_type": "execute_result"
    }
   ],
   "source": [
    "score_log = cross_val_score(LogisticRegression(max_iter=2000),iris['data'],iris['target'])\n",
    "score_log"
   ]
  },
  {
   "cell_type": "code",
   "execution_count": 37,
   "id": "a32054f5",
   "metadata": {},
   "outputs": [
    {
     "data": {
      "text/plain": [
       "0.9733333333333334"
      ]
     },
     "execution_count": 37,
     "metadata": {},
     "output_type": "execute_result"
    }
   ],
   "source": [
    "score_log.mean()\n",
    "np.average(score_log)\n",
    "# both same"
   ]
  },
  {
   "cell_type": "code",
   "execution_count": 38,
   "id": "fad39e37",
   "metadata": {},
   "outputs": [
    {
     "data": {
      "text/plain": [
       "array([0.96666667, 0.96666667, 0.96666667, 0.93333333, 1.        ])"
      ]
     },
     "execution_count": 38,
     "metadata": {},
     "output_type": "execute_result"
    }
   ],
   "source": [
    "score_SVM = cross_val_score(SVC(),iris['data'],iris['target'])\n",
    "score_SVM"
   ]
  },
  {
   "cell_type": "code",
   "execution_count": 42,
   "id": "7d141a77",
   "metadata": {},
   "outputs": [
    {
     "data": {
      "text/plain": [
       "array([0.96666667, 0.96666667, 0.9       , 0.93333333, 1.        ])"
      ]
     },
     "execution_count": 42,
     "metadata": {},
     "output_type": "execute_result"
    }
   ],
   "source": [
    "score_tree = cross_val_score(DecisionTreeClassifier(),iris['data'],iris['target'])\n",
    "score_tree"
   ]
  },
  {
   "cell_type": "code",
   "execution_count": 46,
   "id": "ea600d0d",
   "metadata": {},
   "outputs": [
    {
     "data": {
      "text/plain": [
       "array([0.96666667, 0.96666667, 0.93333333, 0.93333333, 1.        ])"
      ]
     },
     "execution_count": 46,
     "metadata": {},
     "output_type": "execute_result"
    }
   ],
   "source": [
    "score_rf = cross_val_score(RandomForestClassifier(n_estimators=40),iris['data'],iris['target'])\n",
    "score_rf"
   ]
  },
  {
   "cell_type": "code",
   "execution_count": 47,
   "id": "fa2b22bb",
   "metadata": {
    "scrolled": true
   },
   "outputs": [
    {
     "name": "stdout",
     "output_type": "stream",
     "text": [
      "Score of Logistic 0.9733333333333334\n",
      "Score of SVC 0.9666666666666666\n",
      "Score of Tree 0.9533333333333334\n",
      "Score of RandomForest 0.96\n"
     ]
    }
   ],
   "source": [
    "print(f\"Score of Logistic {score_log.mean()}\")\n",
    "print(f\"Score of SVC {score_SVM.mean()}\")\n",
    "print(f\"Score of Tree {score_tree.mean()}\")\n",
    "print(f\"Score of RandomForest {score_rf.mean()}\")"
   ]
  }
 ],
 "metadata": {
  "kernelspec": {
   "display_name": "Python 3 (ipykernel)",
   "language": "python",
   "name": "python3"
  },
  "language_info": {
   "codemirror_mode": {
    "name": "ipython",
    "version": 3
   },
   "file_extension": ".py",
   "mimetype": "text/x-python",
   "name": "python",
   "nbconvert_exporter": "python",
   "pygments_lexer": "ipython3",
   "version": "3.11.5"
  }
 },
 "nbformat": 4,
 "nbformat_minor": 5
}
